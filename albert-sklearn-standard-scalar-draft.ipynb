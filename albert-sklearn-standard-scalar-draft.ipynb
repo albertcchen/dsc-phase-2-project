{
 "cells": [
  {
   "cell_type": "code",
   "execution_count": 2,
   "metadata": {},
   "outputs": [],
   "source": [
    "import numpy as np\n",
    "import pandas as pd\n",
    "\n",
    "import matplotlib.pyplot as plt\n",
    "import matplotlib.ticker as ticker\n",
    "import seaborn as sns\n",
    "import statsmodels.api as sm\n",
    "\n",
    "from sklearn.model_selection import train_test_split\n",
    "from sklearn.linear_model import LinearRegression\n",
    "from sklearn.dummy import DummyRegressor\n",
    "from sklearn.model_selection import cross_validate, ShuffleSplit\n",
    "from sklearn.metrics import mean_squared_error as MSE\n",
    "from sklearn.feature_selection import RFECV\n",
    "from sklearn.preprocessing import StandardScaler\n",
    "from sklearn.metrics import r2_score"
   ]
  },
  {
   "cell_type": "code",
   "execution_count": 3,
   "metadata": {},
   "outputs": [],
   "source": [
    "df = pd.read_csv('data_cleaned.csv')"
   ]
  },
  {
   "cell_type": "code",
   "execution_count": 4,
   "metadata": {},
   "outputs": [],
   "source": [
    "df = df.drop(df.columns[0], axis =1)"
   ]
  },
  {
   "cell_type": "code",
   "execution_count": 5,
   "metadata": {
    "scrolled": false
   },
   "outputs": [
    {
     "data": {
      "text/html": [
       "<div>\n",
       "<style scoped>\n",
       "    .dataframe tbody tr th:only-of-type {\n",
       "        vertical-align: middle;\n",
       "    }\n",
       "\n",
       "    .dataframe tbody tr th {\n",
       "        vertical-align: top;\n",
       "    }\n",
       "\n",
       "    .dataframe thead th {\n",
       "        text-align: right;\n",
       "    }\n",
       "</style>\n",
       "<table border=\"1\" class=\"dataframe\">\n",
       "  <thead>\n",
       "    <tr style=\"text-align: right;\">\n",
       "      <th></th>\n",
       "      <th>id</th>\n",
       "      <th>price</th>\n",
       "      <th>bedrooms</th>\n",
       "      <th>bathrooms</th>\n",
       "      <th>sqft_living</th>\n",
       "      <th>sqft_lot</th>\n",
       "      <th>floors</th>\n",
       "      <th>sqft_garage</th>\n",
       "      <th>sqft_patio</th>\n",
       "      <th>yr_built</th>\n",
       "      <th>lat</th>\n",
       "      <th>long</th>\n",
       "      <th>postal_code</th>\n",
       "      <th>price_sqft</th>\n",
       "      <th>grade_code</th>\n",
       "      <th>condition_code</th>\n",
       "    </tr>\n",
       "  </thead>\n",
       "  <tbody>\n",
       "    <tr>\n",
       "      <th>0</th>\n",
       "      <td>2310000170</td>\n",
       "      <td>750000.0</td>\n",
       "      <td>3</td>\n",
       "      <td>2.0</td>\n",
       "      <td>1590</td>\n",
       "      <td>7754</td>\n",
       "      <td>1.0</td>\n",
       "      <td>440</td>\n",
       "      <td>0</td>\n",
       "      <td>1990</td>\n",
       "      <td>47.357065</td>\n",
       "      <td>-122.04067</td>\n",
       "      <td>98038</td>\n",
       "      <td>471.698113</td>\n",
       "      <td>7</td>\n",
       "      <td>4</td>\n",
       "    </tr>\n",
       "    <tr>\n",
       "      <th>1</th>\n",
       "      <td>2095600170</td>\n",
       "      <td>580000.0</td>\n",
       "      <td>3</td>\n",
       "      <td>3.0</td>\n",
       "      <td>2020</td>\n",
       "      <td>4482</td>\n",
       "      <td>1.0</td>\n",
       "      <td>600</td>\n",
       "      <td>120</td>\n",
       "      <td>1992</td>\n",
       "      <td>47.399470</td>\n",
       "      <td>-122.20413</td>\n",
       "      <td>98031</td>\n",
       "      <td>287.128713</td>\n",
       "      <td>7</td>\n",
       "      <td>3</td>\n",
       "    </tr>\n",
       "    <tr>\n",
       "      <th>2</th>\n",
       "      <td>8682282030</td>\n",
       "      <td>2000000.0</td>\n",
       "      <td>3</td>\n",
       "      <td>3.0</td>\n",
       "      <td>2700</td>\n",
       "      <td>7694</td>\n",
       "      <td>1.0</td>\n",
       "      <td>530</td>\n",
       "      <td>640</td>\n",
       "      <td>2006</td>\n",
       "      <td>47.708760</td>\n",
       "      <td>-122.02073</td>\n",
       "      <td>98053</td>\n",
       "      <td>740.740741</td>\n",
       "      <td>9</td>\n",
       "      <td>3</td>\n",
       "    </tr>\n",
       "    <tr>\n",
       "      <th>3</th>\n",
       "      <td>5727500011</td>\n",
       "      <td>785000.0</td>\n",
       "      <td>3</td>\n",
       "      <td>2.0</td>\n",
       "      <td>1350</td>\n",
       "      <td>7354</td>\n",
       "      <td>1.0</td>\n",
       "      <td>460</td>\n",
       "      <td>120</td>\n",
       "      <td>1985</td>\n",
       "      <td>47.751020</td>\n",
       "      <td>-122.33447</td>\n",
       "      <td>98133</td>\n",
       "      <td>581.481481</td>\n",
       "      <td>7</td>\n",
       "      <td>5</td>\n",
       "    </tr>\n",
       "    <tr>\n",
       "      <th>4</th>\n",
       "      <td>1421059003</td>\n",
       "      <td>1680000.0</td>\n",
       "      <td>3</td>\n",
       "      <td>2.5</td>\n",
       "      <td>5200</td>\n",
       "      <td>206039</td>\n",
       "      <td>1.0</td>\n",
       "      <td>1080</td>\n",
       "      <td>670</td>\n",
       "      <td>2007</td>\n",
       "      <td>47.310595</td>\n",
       "      <td>-122.12938</td>\n",
       "      <td>98092</td>\n",
       "      <td>323.076923</td>\n",
       "      <td>10</td>\n",
       "      <td>3</td>\n",
       "    </tr>\n",
       "  </tbody>\n",
       "</table>\n",
       "</div>"
      ],
      "text/plain": [
       "           id      price  bedrooms  bathrooms  sqft_living  sqft_lot  floors  \\\n",
       "0  2310000170   750000.0         3        2.0         1590      7754     1.0   \n",
       "1  2095600170   580000.0         3        3.0         2020      4482     1.0   \n",
       "2  8682282030  2000000.0         3        3.0         2700      7694     1.0   \n",
       "3  5727500011   785000.0         3        2.0         1350      7354     1.0   \n",
       "4  1421059003  1680000.0         3        2.5         5200    206039     1.0   \n",
       "\n",
       "   sqft_garage  sqft_patio  yr_built        lat       long  postal_code  \\\n",
       "0          440           0      1990  47.357065 -122.04067        98038   \n",
       "1          600         120      1992  47.399470 -122.20413        98031   \n",
       "2          530         640      2006  47.708760 -122.02073        98053   \n",
       "3          460         120      1985  47.751020 -122.33447        98133   \n",
       "4         1080         670      2007  47.310595 -122.12938        98092   \n",
       "\n",
       "   price_sqft  grade_code  condition_code  \n",
       "0  471.698113           7               4  \n",
       "1  287.128713           7               3  \n",
       "2  740.740741           9               3  \n",
       "3  581.481481           7               5  \n",
       "4  323.076923          10               3  "
      ]
     },
     "execution_count": 5,
     "metadata": {},
     "output_type": "execute_result"
    }
   ],
   "source": [
    "df.head()"
   ]
  },
  {
   "cell_type": "code",
   "execution_count": 6,
   "metadata": {},
   "outputs": [
    {
     "data": {
      "text/plain": [
       "count    2618.000000\n",
       "mean     1945.639037\n",
       "std       633.012981\n",
       "min       770.000000\n",
       "25%      1492.500000\n",
       "50%      1840.000000\n",
       "75%      2260.000000\n",
       "max      5490.000000\n",
       "Name: sqft_living, dtype: float64"
      ]
     },
     "execution_count": 6,
     "metadata": {},
     "output_type": "execute_result"
    }
   ],
   "source": [
    "df['sqft_living'].describe()"
   ]
  },
  {
   "cell_type": "code",
   "execution_count": 7,
   "metadata": {
    "scrolled": false
   },
   "outputs": [
    {
     "name": "stdout",
     "output_type": "stream",
     "text": [
      "<class 'pandas.core.frame.DataFrame'>\n",
      "RangeIndex: 2618 entries, 0 to 2617\n",
      "Data columns (total 16 columns):\n",
      " #   Column          Non-Null Count  Dtype  \n",
      "---  ------          --------------  -----  \n",
      " 0   id              2618 non-null   int64  \n",
      " 1   price           2618 non-null   float64\n",
      " 2   bedrooms        2618 non-null   int64  \n",
      " 3   bathrooms       2618 non-null   float64\n",
      " 4   sqft_living     2618 non-null   int64  \n",
      " 5   sqft_lot        2618 non-null   int64  \n",
      " 6   floors          2618 non-null   float64\n",
      " 7   sqft_garage     2618 non-null   int64  \n",
      " 8   sqft_patio      2618 non-null   int64  \n",
      " 9   yr_built        2618 non-null   int64  \n",
      " 10  lat             2618 non-null   float64\n",
      " 11  long            2618 non-null   float64\n",
      " 12  postal_code     2618 non-null   int64  \n",
      " 13  price_sqft      2618 non-null   float64\n",
      " 14  grade_code      2618 non-null   int64  \n",
      " 15  condition_code  2618 non-null   int64  \n",
      "dtypes: float64(6), int64(10)\n",
      "memory usage: 327.4 KB\n"
     ]
    }
   ],
   "source": [
    "df.info()"
   ]
  },
  {
   "cell_type": "code",
   "execution_count": 8,
   "metadata": {
    "scrolled": false
   },
   "outputs": [
    {
     "data": {
      "text/html": [
       "<div>\n",
       "<style scoped>\n",
       "    .dataframe tbody tr th:only-of-type {\n",
       "        vertical-align: middle;\n",
       "    }\n",
       "\n",
       "    .dataframe tbody tr th {\n",
       "        vertical-align: top;\n",
       "    }\n",
       "\n",
       "    .dataframe thead th {\n",
       "        text-align: right;\n",
       "    }\n",
       "</style>\n",
       "<table border=\"1\" class=\"dataframe\">\n",
       "  <thead>\n",
       "    <tr style=\"text-align: right;\">\n",
       "      <th></th>\n",
       "      <th>id</th>\n",
       "      <th>price</th>\n",
       "      <th>bedrooms</th>\n",
       "      <th>bathrooms</th>\n",
       "      <th>sqft_living</th>\n",
       "      <th>sqft_lot</th>\n",
       "      <th>floors</th>\n",
       "      <th>sqft_garage</th>\n",
       "      <th>sqft_patio</th>\n",
       "      <th>yr_built</th>\n",
       "      <th>lat</th>\n",
       "      <th>long</th>\n",
       "      <th>postal_code</th>\n",
       "      <th>price_sqft</th>\n",
       "      <th>grade_code</th>\n",
       "      <th>condition_code</th>\n",
       "    </tr>\n",
       "  </thead>\n",
       "  <tbody>\n",
       "    <tr>\n",
       "      <th>0</th>\n",
       "      <td>2310000170</td>\n",
       "      <td>750000.0</td>\n",
       "      <td>3</td>\n",
       "      <td>2.0</td>\n",
       "      <td>1590</td>\n",
       "      <td>7754</td>\n",
       "      <td>1.0</td>\n",
       "      <td>440</td>\n",
       "      <td>0</td>\n",
       "      <td>1990</td>\n",
       "      <td>47.357065</td>\n",
       "      <td>-122.04067</td>\n",
       "      <td>98038</td>\n",
       "      <td>471.698113</td>\n",
       "      <td>7</td>\n",
       "      <td>4</td>\n",
       "    </tr>\n",
       "    <tr>\n",
       "      <th>1</th>\n",
       "      <td>2095600170</td>\n",
       "      <td>580000.0</td>\n",
       "      <td>3</td>\n",
       "      <td>3.0</td>\n",
       "      <td>2020</td>\n",
       "      <td>4482</td>\n",
       "      <td>1.0</td>\n",
       "      <td>600</td>\n",
       "      <td>120</td>\n",
       "      <td>1992</td>\n",
       "      <td>47.399470</td>\n",
       "      <td>-122.20413</td>\n",
       "      <td>98031</td>\n",
       "      <td>287.128713</td>\n",
       "      <td>7</td>\n",
       "      <td>3</td>\n",
       "    </tr>\n",
       "    <tr>\n",
       "      <th>2</th>\n",
       "      <td>8682282030</td>\n",
       "      <td>2000000.0</td>\n",
       "      <td>3</td>\n",
       "      <td>3.0</td>\n",
       "      <td>2700</td>\n",
       "      <td>7694</td>\n",
       "      <td>1.0</td>\n",
       "      <td>530</td>\n",
       "      <td>640</td>\n",
       "      <td>2006</td>\n",
       "      <td>47.708760</td>\n",
       "      <td>-122.02073</td>\n",
       "      <td>98053</td>\n",
       "      <td>740.740741</td>\n",
       "      <td>9</td>\n",
       "      <td>3</td>\n",
       "    </tr>\n",
       "    <tr>\n",
       "      <th>3</th>\n",
       "      <td>5727500011</td>\n",
       "      <td>785000.0</td>\n",
       "      <td>3</td>\n",
       "      <td>2.0</td>\n",
       "      <td>1350</td>\n",
       "      <td>7354</td>\n",
       "      <td>1.0</td>\n",
       "      <td>460</td>\n",
       "      <td>120</td>\n",
       "      <td>1985</td>\n",
       "      <td>47.751020</td>\n",
       "      <td>-122.33447</td>\n",
       "      <td>98133</td>\n",
       "      <td>581.481481</td>\n",
       "      <td>7</td>\n",
       "      <td>5</td>\n",
       "    </tr>\n",
       "    <tr>\n",
       "      <th>4</th>\n",
       "      <td>1421059003</td>\n",
       "      <td>1680000.0</td>\n",
       "      <td>3</td>\n",
       "      <td>2.5</td>\n",
       "      <td>5200</td>\n",
       "      <td>206039</td>\n",
       "      <td>1.0</td>\n",
       "      <td>1080</td>\n",
       "      <td>670</td>\n",
       "      <td>2007</td>\n",
       "      <td>47.310595</td>\n",
       "      <td>-122.12938</td>\n",
       "      <td>98092</td>\n",
       "      <td>323.076923</td>\n",
       "      <td>10</td>\n",
       "      <td>3</td>\n",
       "    </tr>\n",
       "  </tbody>\n",
       "</table>\n",
       "</div>"
      ],
      "text/plain": [
       "           id      price  bedrooms  bathrooms  sqft_living  sqft_lot  floors  \\\n",
       "0  2310000170   750000.0         3        2.0         1590      7754     1.0   \n",
       "1  2095600170   580000.0         3        3.0         2020      4482     1.0   \n",
       "2  8682282030  2000000.0         3        3.0         2700      7694     1.0   \n",
       "3  5727500011   785000.0         3        2.0         1350      7354     1.0   \n",
       "4  1421059003  1680000.0         3        2.5         5200    206039     1.0   \n",
       "\n",
       "   sqft_garage  sqft_patio  yr_built        lat       long  postal_code  \\\n",
       "0          440           0      1990  47.357065 -122.04067        98038   \n",
       "1          600         120      1992  47.399470 -122.20413        98031   \n",
       "2          530         640      2006  47.708760 -122.02073        98053   \n",
       "3          460         120      1985  47.751020 -122.33447        98133   \n",
       "4         1080         670      2007  47.310595 -122.12938        98092   \n",
       "\n",
       "   price_sqft  grade_code  condition_code  \n",
       "0  471.698113           7               4  \n",
       "1  287.128713           7               3  \n",
       "2  740.740741           9               3  \n",
       "3  581.481481           7               5  \n",
       "4  323.076923          10               3  "
      ]
     },
     "execution_count": 8,
     "metadata": {},
     "output_type": "execute_result"
    }
   ],
   "source": [
    "df.head()"
   ]
  },
  {
   "cell_type": "code",
   "execution_count": 9,
   "metadata": {},
   "outputs": [],
   "source": [
    "numbers_df = df.drop(['postal_code', 'lat', 'long'], axis=1)"
   ]
  },
  {
   "cell_type": "code",
   "execution_count": 10,
   "metadata": {},
   "outputs": [
    {
     "data": {
      "text/html": [
       "<div>\n",
       "<style scoped>\n",
       "    .dataframe tbody tr th:only-of-type {\n",
       "        vertical-align: middle;\n",
       "    }\n",
       "\n",
       "    .dataframe tbody tr th {\n",
       "        vertical-align: top;\n",
       "    }\n",
       "\n",
       "    .dataframe thead th {\n",
       "        text-align: right;\n",
       "    }\n",
       "</style>\n",
       "<table border=\"1\" class=\"dataframe\">\n",
       "  <thead>\n",
       "    <tr style=\"text-align: right;\">\n",
       "      <th></th>\n",
       "      <th>id</th>\n",
       "      <th>price</th>\n",
       "      <th>bedrooms</th>\n",
       "      <th>bathrooms</th>\n",
       "      <th>sqft_living</th>\n",
       "      <th>sqft_lot</th>\n",
       "      <th>floors</th>\n",
       "      <th>sqft_garage</th>\n",
       "      <th>sqft_patio</th>\n",
       "      <th>yr_built</th>\n",
       "      <th>price_sqft</th>\n",
       "      <th>grade_code</th>\n",
       "      <th>condition_code</th>\n",
       "    </tr>\n",
       "  </thead>\n",
       "  <tbody>\n",
       "    <tr>\n",
       "      <th>0</th>\n",
       "      <td>-0.789481</td>\n",
       "      <td>-0.270591</td>\n",
       "      <td>-0.422916</td>\n",
       "      <td>-0.679218</td>\n",
       "      <td>-0.561927</td>\n",
       "      <td>-0.286390</td>\n",
       "      <td>0.0</td>\n",
       "      <td>-0.182910</td>\n",
       "      <td>-1.011665</td>\n",
       "      <td>0.226147</td>\n",
       "      <td>0.127758</td>\n",
       "      <td>-0.764958</td>\n",
       "      <td>0.679186</td>\n",
       "    </tr>\n",
       "    <tr>\n",
       "      <th>1</th>\n",
       "      <td>-0.862936</td>\n",
       "      <td>-0.709148</td>\n",
       "      <td>-0.422916</td>\n",
       "      <td>1.088368</td>\n",
       "      <td>0.117494</td>\n",
       "      <td>-0.349550</td>\n",
       "      <td>0.0</td>\n",
       "      <td>0.613444</td>\n",
       "      <td>-0.517229</td>\n",
       "      <td>0.426063</td>\n",
       "      <td>-0.971479</td>\n",
       "      <td>-0.764958</td>\n",
       "      <td>-0.820063</td>\n",
       "    </tr>\n",
       "    <tr>\n",
       "      <th>2</th>\n",
       "      <td>1.393696</td>\n",
       "      <td>2.954094</td>\n",
       "      <td>-0.422916</td>\n",
       "      <td>1.088368</td>\n",
       "      <td>1.191927</td>\n",
       "      <td>-0.287548</td>\n",
       "      <td>0.0</td>\n",
       "      <td>0.265039</td>\n",
       "      <td>1.625329</td>\n",
       "      <td>1.825479</td>\n",
       "      <td>1.730091</td>\n",
       "      <td>1.957896</td>\n",
       "      <td>-0.820063</td>\n",
       "    </tr>\n",
       "    <tr>\n",
       "      <th>3</th>\n",
       "      <td>0.381372</td>\n",
       "      <td>-0.180300</td>\n",
       "      <td>-0.422916</td>\n",
       "      <td>-0.679218</td>\n",
       "      <td>-0.941138</td>\n",
       "      <td>-0.294111</td>\n",
       "      <td>0.0</td>\n",
       "      <td>-0.083365</td>\n",
       "      <td>-0.517229</td>\n",
       "      <td>-0.273644</td>\n",
       "      <td>0.781593</td>\n",
       "      <td>-0.764958</td>\n",
       "      <td>2.178435</td>\n",
       "    </tr>\n",
       "    <tr>\n",
       "      <th>4</th>\n",
       "      <td>-1.094037</td>\n",
       "      <td>2.128574</td>\n",
       "      <td>-0.422916</td>\n",
       "      <td>0.204575</td>\n",
       "      <td>5.142047</td>\n",
       "      <td>3.541122</td>\n",
       "      <td>0.0</td>\n",
       "      <td>3.002504</td>\n",
       "      <td>1.748939</td>\n",
       "      <td>1.925437</td>\n",
       "      <td>-0.757383</td>\n",
       "      <td>3.319323</td>\n",
       "      <td>-0.820063</td>\n",
       "    </tr>\n",
       "    <tr>\n",
       "      <th>...</th>\n",
       "      <td>...</td>\n",
       "      <td>...</td>\n",
       "      <td>...</td>\n",
       "      <td>...</td>\n",
       "      <td>...</td>\n",
       "      <td>...</td>\n",
       "      <td>...</td>\n",
       "      <td>...</td>\n",
       "      <td>...</td>\n",
       "      <td>...</td>\n",
       "      <td>...</td>\n",
       "      <td>...</td>\n",
       "      <td>...</td>\n",
       "    </tr>\n",
       "    <tr>\n",
       "      <th>2613</th>\n",
       "      <td>-0.271668</td>\n",
       "      <td>-0.915528</td>\n",
       "      <td>-0.422916</td>\n",
       "      <td>0.204575</td>\n",
       "      <td>-0.530326</td>\n",
       "      <td>-0.296119</td>\n",
       "      <td>0.0</td>\n",
       "      <td>0.065951</td>\n",
       "      <td>0.100817</td>\n",
       "      <td>-0.973352</td>\n",
       "      <td>-0.831936</td>\n",
       "      <td>-0.764958</td>\n",
       "      <td>-0.820063</td>\n",
       "    </tr>\n",
       "    <tr>\n",
       "      <th>2614</th>\n",
       "      <td>-0.977537</td>\n",
       "      <td>-0.760743</td>\n",
       "      <td>-0.422916</td>\n",
       "      <td>-0.679218</td>\n",
       "      <td>-0.735732</td>\n",
       "      <td>-0.266778</td>\n",
       "      <td>0.0</td>\n",
       "      <td>0.314811</td>\n",
       "      <td>-0.270011</td>\n",
       "      <td>-0.273644</td>\n",
       "      <td>-0.428025</td>\n",
       "      <td>-0.764958</td>\n",
       "      <td>0.679186</td>\n",
       "    </tr>\n",
       "    <tr>\n",
       "      <th>2615</th>\n",
       "      <td>-0.755872</td>\n",
       "      <td>0.402723</td>\n",
       "      <td>-0.422916</td>\n",
       "      <td>-0.679218</td>\n",
       "      <td>-0.767333</td>\n",
       "      <td>-0.223829</td>\n",
       "      <td>0.0</td>\n",
       "      <td>-0.083365</td>\n",
       "      <td>-0.270011</td>\n",
       "      <td>-0.673477</td>\n",
       "      <td>1.442580</td>\n",
       "      <td>0.596469</td>\n",
       "      <td>-0.820063</td>\n",
       "    </tr>\n",
       "    <tr>\n",
       "      <th>2616</th>\n",
       "      <td>-0.710853</td>\n",
       "      <td>0.064776</td>\n",
       "      <td>0.864520</td>\n",
       "      <td>0.204575</td>\n",
       "      <td>0.496705</td>\n",
       "      <td>-0.326791</td>\n",
       "      <td>0.0</td>\n",
       "      <td>-0.083365</td>\n",
       "      <td>-0.063995</td>\n",
       "      <td>1.225729</td>\n",
       "      <td>-0.362500</td>\n",
       "      <td>0.596469</td>\n",
       "      <td>-0.820063</td>\n",
       "    </tr>\n",
       "    <tr>\n",
       "      <th>2617</th>\n",
       "      <td>1.146273</td>\n",
       "      <td>-0.141604</td>\n",
       "      <td>-0.422916</td>\n",
       "      <td>-0.679218</td>\n",
       "      <td>-0.514525</td>\n",
       "      <td>-0.366575</td>\n",
       "      <td>0.0</td>\n",
       "      <td>-1.178351</td>\n",
       "      <td>-0.558432</td>\n",
       "      <td>0.725938</td>\n",
       "      <td>0.259551</td>\n",
       "      <td>-0.764958</td>\n",
       "      <td>-0.820063</td>\n",
       "    </tr>\n",
       "  </tbody>\n",
       "</table>\n",
       "<p>2618 rows × 13 columns</p>\n",
       "</div>"
      ],
      "text/plain": [
       "            id     price  bedrooms  bathrooms  sqft_living  sqft_lot  floors  \\\n",
       "0    -0.789481 -0.270591 -0.422916  -0.679218    -0.561927 -0.286390     0.0   \n",
       "1    -0.862936 -0.709148 -0.422916   1.088368     0.117494 -0.349550     0.0   \n",
       "2     1.393696  2.954094 -0.422916   1.088368     1.191927 -0.287548     0.0   \n",
       "3     0.381372 -0.180300 -0.422916  -0.679218    -0.941138 -0.294111     0.0   \n",
       "4    -1.094037  2.128574 -0.422916   0.204575     5.142047  3.541122     0.0   \n",
       "...        ...       ...       ...        ...          ...       ...     ...   \n",
       "2613 -0.271668 -0.915528 -0.422916   0.204575    -0.530326 -0.296119     0.0   \n",
       "2614 -0.977537 -0.760743 -0.422916  -0.679218    -0.735732 -0.266778     0.0   \n",
       "2615 -0.755872  0.402723 -0.422916  -0.679218    -0.767333 -0.223829     0.0   \n",
       "2616 -0.710853  0.064776  0.864520   0.204575     0.496705 -0.326791     0.0   \n",
       "2617  1.146273 -0.141604 -0.422916  -0.679218    -0.514525 -0.366575     0.0   \n",
       "\n",
       "      sqft_garage  sqft_patio  yr_built  price_sqft  grade_code  \\\n",
       "0       -0.182910   -1.011665  0.226147    0.127758   -0.764958   \n",
       "1        0.613444   -0.517229  0.426063   -0.971479   -0.764958   \n",
       "2        0.265039    1.625329  1.825479    1.730091    1.957896   \n",
       "3       -0.083365   -0.517229 -0.273644    0.781593   -0.764958   \n",
       "4        3.002504    1.748939  1.925437   -0.757383    3.319323   \n",
       "...           ...         ...       ...         ...         ...   \n",
       "2613     0.065951    0.100817 -0.973352   -0.831936   -0.764958   \n",
       "2614     0.314811   -0.270011 -0.273644   -0.428025   -0.764958   \n",
       "2615    -0.083365   -0.270011 -0.673477    1.442580    0.596469   \n",
       "2616    -0.083365   -0.063995  1.225729   -0.362500    0.596469   \n",
       "2617    -1.178351   -0.558432  0.725938    0.259551   -0.764958   \n",
       "\n",
       "      condition_code  \n",
       "0           0.679186  \n",
       "1          -0.820063  \n",
       "2          -0.820063  \n",
       "3           2.178435  \n",
       "4          -0.820063  \n",
       "...              ...  \n",
       "2613       -0.820063  \n",
       "2614        0.679186  \n",
       "2615       -0.820063  \n",
       "2616       -0.820063  \n",
       "2617       -0.820063  \n",
       "\n",
       "[2618 rows x 13 columns]"
      ]
     },
     "execution_count": 10,
     "metadata": {},
     "output_type": "execute_result"
    }
   ],
   "source": [
    "scaled_df = StandardScaler().fit(numbers_df)\n",
    "new_df = pd.DataFrame(scaled_df.transform(numbers_df), columns= numbers_df.columns)\n",
    "new_df"
   ]
  },
  {
   "cell_type": "code",
   "execution_count": 11,
   "metadata": {
    "scrolled": true
   },
   "outputs": [
    {
     "data": {
      "text/html": [
       "<div>\n",
       "<style scoped>\n",
       "    .dataframe tbody tr th:only-of-type {\n",
       "        vertical-align: middle;\n",
       "    }\n",
       "\n",
       "    .dataframe tbody tr th {\n",
       "        vertical-align: top;\n",
       "    }\n",
       "\n",
       "    .dataframe thead th {\n",
       "        text-align: right;\n",
       "    }\n",
       "</style>\n",
       "<table border=\"1\" class=\"dataframe\">\n",
       "  <thead>\n",
       "    <tr style=\"text-align: right;\">\n",
       "      <th></th>\n",
       "      <th>id</th>\n",
       "      <th>price</th>\n",
       "      <th>bedrooms</th>\n",
       "      <th>bathrooms</th>\n",
       "      <th>sqft_living</th>\n",
       "      <th>sqft_lot</th>\n",
       "      <th>floors</th>\n",
       "      <th>sqft_garage</th>\n",
       "      <th>sqft_patio</th>\n",
       "      <th>yr_built</th>\n",
       "      <th>price_sqft</th>\n",
       "      <th>grade_code</th>\n",
       "      <th>condition_code</th>\n",
       "    </tr>\n",
       "  </thead>\n",
       "  <tbody>\n",
       "    <tr>\n",
       "      <th>id</th>\n",
       "      <td>1.000000</td>\n",
       "      <td>0.001849</td>\n",
       "      <td>-0.085426</td>\n",
       "      <td>-0.058254</td>\n",
       "      <td>-0.064287</td>\n",
       "      <td>-0.188410</td>\n",
       "      <td>NaN</td>\n",
       "      <td>-0.033111</td>\n",
       "      <td>-0.063771</td>\n",
       "      <td>0.043437</td>\n",
       "      <td>0.055729</td>\n",
       "      <td>0.006750</td>\n",
       "      <td>-0.012768</td>\n",
       "    </tr>\n",
       "    <tr>\n",
       "      <th>price</th>\n",
       "      <td>0.001849</td>\n",
       "      <td>1.000000</td>\n",
       "      <td>0.163144</td>\n",
       "      <td>0.336551</td>\n",
       "      <td>0.533372</td>\n",
       "      <td>0.173581</td>\n",
       "      <td>NaN</td>\n",
       "      <td>0.191680</td>\n",
       "      <td>0.269960</td>\n",
       "      <td>0.089904</td>\n",
       "      <td>0.681613</td>\n",
       "      <td>0.560863</td>\n",
       "      <td>0.035037</td>\n",
       "    </tr>\n",
       "    <tr>\n",
       "      <th>bedrooms</th>\n",
       "      <td>-0.085426</td>\n",
       "      <td>0.163144</td>\n",
       "      <td>1.000000</td>\n",
       "      <td>0.549820</td>\n",
       "      <td>0.497702</td>\n",
       "      <td>0.017981</td>\n",
       "      <td>NaN</td>\n",
       "      <td>0.070644</td>\n",
       "      <td>0.103804</td>\n",
       "      <td>-0.103391</td>\n",
       "      <td>-0.225889</td>\n",
       "      <td>0.118357</td>\n",
       "      <td>0.092598</td>\n",
       "    </tr>\n",
       "    <tr>\n",
       "      <th>bathrooms</th>\n",
       "      <td>-0.058254</td>\n",
       "      <td>0.336551</td>\n",
       "      <td>0.549820</td>\n",
       "      <td>1.000000</td>\n",
       "      <td>0.633446</td>\n",
       "      <td>0.055614</td>\n",
       "      <td>NaN</td>\n",
       "      <td>0.199298</td>\n",
       "      <td>0.222674</td>\n",
       "      <td>0.037961</td>\n",
       "      <td>-0.150264</td>\n",
       "      <td>0.327461</td>\n",
       "      <td>0.055406</td>\n",
       "    </tr>\n",
       "    <tr>\n",
       "      <th>sqft_living</th>\n",
       "      <td>-0.064287</td>\n",
       "      <td>0.533372</td>\n",
       "      <td>0.497702</td>\n",
       "      <td>0.633446</td>\n",
       "      <td>1.000000</td>\n",
       "      <td>0.241080</td>\n",
       "      <td>NaN</td>\n",
       "      <td>0.277111</td>\n",
       "      <td>0.394535</td>\n",
       "      <td>0.065084</td>\n",
       "      <td>-0.198811</td>\n",
       "      <td>0.614683</td>\n",
       "      <td>0.009331</td>\n",
       "    </tr>\n",
       "    <tr>\n",
       "      <th>sqft_lot</th>\n",
       "      <td>-0.188410</td>\n",
       "      <td>0.173581</td>\n",
       "      <td>0.017981</td>\n",
       "      <td>0.055614</td>\n",
       "      <td>0.241080</td>\n",
       "      <td>1.000000</td>\n",
       "      <td>NaN</td>\n",
       "      <td>0.066841</td>\n",
       "      <td>0.173007</td>\n",
       "      <td>0.079547</td>\n",
       "      <td>0.007895</td>\n",
       "      <td>0.173648</td>\n",
       "      <td>-0.016297</td>\n",
       "    </tr>\n",
       "    <tr>\n",
       "      <th>floors</th>\n",
       "      <td>NaN</td>\n",
       "      <td>NaN</td>\n",
       "      <td>NaN</td>\n",
       "      <td>NaN</td>\n",
       "      <td>NaN</td>\n",
       "      <td>NaN</td>\n",
       "      <td>NaN</td>\n",
       "      <td>NaN</td>\n",
       "      <td>NaN</td>\n",
       "      <td>NaN</td>\n",
       "      <td>NaN</td>\n",
       "      <td>NaN</td>\n",
       "      <td>NaN</td>\n",
       "    </tr>\n",
       "    <tr>\n",
       "      <th>sqft_garage</th>\n",
       "      <td>-0.033111</td>\n",
       "      <td>0.191680</td>\n",
       "      <td>0.070644</td>\n",
       "      <td>0.199298</td>\n",
       "      <td>0.277111</td>\n",
       "      <td>0.066841</td>\n",
       "      <td>NaN</td>\n",
       "      <td>1.000000</td>\n",
       "      <td>0.137558</td>\n",
       "      <td>0.029674</td>\n",
       "      <td>-0.026007</td>\n",
       "      <td>0.339029</td>\n",
       "      <td>-0.034241</td>\n",
       "    </tr>\n",
       "    <tr>\n",
       "      <th>sqft_patio</th>\n",
       "      <td>-0.063771</td>\n",
       "      <td>0.269960</td>\n",
       "      <td>0.103804</td>\n",
       "      <td>0.222674</td>\n",
       "      <td>0.394535</td>\n",
       "      <td>0.173007</td>\n",
       "      <td>NaN</td>\n",
       "      <td>0.137558</td>\n",
       "      <td>1.000000</td>\n",
       "      <td>-0.041705</td>\n",
       "      <td>-0.009296</td>\n",
       "      <td>0.291528</td>\n",
       "      <td>0.090253</td>\n",
       "    </tr>\n",
       "    <tr>\n",
       "      <th>yr_built</th>\n",
       "      <td>0.043437</td>\n",
       "      <td>0.089904</td>\n",
       "      <td>-0.103391</td>\n",
       "      <td>0.037961</td>\n",
       "      <td>0.065084</td>\n",
       "      <td>0.079547</td>\n",
       "      <td>NaN</td>\n",
       "      <td>0.029674</td>\n",
       "      <td>-0.041705</td>\n",
       "      <td>1.000000</td>\n",
       "      <td>0.043261</td>\n",
       "      <td>0.158334</td>\n",
       "      <td>-0.317826</td>\n",
       "    </tr>\n",
       "    <tr>\n",
       "      <th>price_sqft</th>\n",
       "      <td>0.055729</td>\n",
       "      <td>0.681613</td>\n",
       "      <td>-0.225889</td>\n",
       "      <td>-0.150264</td>\n",
       "      <td>-0.198811</td>\n",
       "      <td>0.007895</td>\n",
       "      <td>NaN</td>\n",
       "      <td>-0.026007</td>\n",
       "      <td>-0.009296</td>\n",
       "      <td>0.043261</td>\n",
       "      <td>1.000000</td>\n",
       "      <td>0.127653</td>\n",
       "      <td>0.037034</td>\n",
       "    </tr>\n",
       "    <tr>\n",
       "      <th>grade_code</th>\n",
       "      <td>0.006750</td>\n",
       "      <td>0.560863</td>\n",
       "      <td>0.118357</td>\n",
       "      <td>0.327461</td>\n",
       "      <td>0.614683</td>\n",
       "      <td>0.173648</td>\n",
       "      <td>NaN</td>\n",
       "      <td>0.339029</td>\n",
       "      <td>0.291528</td>\n",
       "      <td>0.158334</td>\n",
       "      <td>0.127653</td>\n",
       "      <td>1.000000</td>\n",
       "      <td>-0.080780</td>\n",
       "    </tr>\n",
       "    <tr>\n",
       "      <th>condition_code</th>\n",
       "      <td>-0.012768</td>\n",
       "      <td>0.035037</td>\n",
       "      <td>0.092598</td>\n",
       "      <td>0.055406</td>\n",
       "      <td>0.009331</td>\n",
       "      <td>-0.016297</td>\n",
       "      <td>NaN</td>\n",
       "      <td>-0.034241</td>\n",
       "      <td>0.090253</td>\n",
       "      <td>-0.317826</td>\n",
       "      <td>0.037034</td>\n",
       "      <td>-0.080780</td>\n",
       "      <td>1.000000</td>\n",
       "    </tr>\n",
       "  </tbody>\n",
       "</table>\n",
       "</div>"
      ],
      "text/plain": [
       "                      id     price  bedrooms  bathrooms  sqft_living  \\\n",
       "id              1.000000  0.001849 -0.085426  -0.058254    -0.064287   \n",
       "price           0.001849  1.000000  0.163144   0.336551     0.533372   \n",
       "bedrooms       -0.085426  0.163144  1.000000   0.549820     0.497702   \n",
       "bathrooms      -0.058254  0.336551  0.549820   1.000000     0.633446   \n",
       "sqft_living    -0.064287  0.533372  0.497702   0.633446     1.000000   \n",
       "sqft_lot       -0.188410  0.173581  0.017981   0.055614     0.241080   \n",
       "floors               NaN       NaN       NaN        NaN          NaN   \n",
       "sqft_garage    -0.033111  0.191680  0.070644   0.199298     0.277111   \n",
       "sqft_patio     -0.063771  0.269960  0.103804   0.222674     0.394535   \n",
       "yr_built        0.043437  0.089904 -0.103391   0.037961     0.065084   \n",
       "price_sqft      0.055729  0.681613 -0.225889  -0.150264    -0.198811   \n",
       "grade_code      0.006750  0.560863  0.118357   0.327461     0.614683   \n",
       "condition_code -0.012768  0.035037  0.092598   0.055406     0.009331   \n",
       "\n",
       "                sqft_lot  floors  sqft_garage  sqft_patio  yr_built  \\\n",
       "id             -0.188410     NaN    -0.033111   -0.063771  0.043437   \n",
       "price           0.173581     NaN     0.191680    0.269960  0.089904   \n",
       "bedrooms        0.017981     NaN     0.070644    0.103804 -0.103391   \n",
       "bathrooms       0.055614     NaN     0.199298    0.222674  0.037961   \n",
       "sqft_living     0.241080     NaN     0.277111    0.394535  0.065084   \n",
       "sqft_lot        1.000000     NaN     0.066841    0.173007  0.079547   \n",
       "floors               NaN     NaN          NaN         NaN       NaN   \n",
       "sqft_garage     0.066841     NaN     1.000000    0.137558  0.029674   \n",
       "sqft_patio      0.173007     NaN     0.137558    1.000000 -0.041705   \n",
       "yr_built        0.079547     NaN     0.029674   -0.041705  1.000000   \n",
       "price_sqft      0.007895     NaN    -0.026007   -0.009296  0.043261   \n",
       "grade_code      0.173648     NaN     0.339029    0.291528  0.158334   \n",
       "condition_code -0.016297     NaN    -0.034241    0.090253 -0.317826   \n",
       "\n",
       "                price_sqft  grade_code  condition_code  \n",
       "id                0.055729    0.006750       -0.012768  \n",
       "price             0.681613    0.560863        0.035037  \n",
       "bedrooms         -0.225889    0.118357        0.092598  \n",
       "bathrooms        -0.150264    0.327461        0.055406  \n",
       "sqft_living      -0.198811    0.614683        0.009331  \n",
       "sqft_lot          0.007895    0.173648       -0.016297  \n",
       "floors                 NaN         NaN             NaN  \n",
       "sqft_garage      -0.026007    0.339029       -0.034241  \n",
       "sqft_patio       -0.009296    0.291528        0.090253  \n",
       "yr_built          0.043261    0.158334       -0.317826  \n",
       "price_sqft        1.000000    0.127653        0.037034  \n",
       "grade_code        0.127653    1.000000       -0.080780  \n",
       "condition_code    0.037034   -0.080780        1.000000  "
      ]
     },
     "execution_count": 11,
     "metadata": {},
     "output_type": "execute_result"
    }
   ],
   "source": [
    "new_df.corr()"
   ]
  },
  {
   "cell_type": "code",
   "execution_count": 12,
   "metadata": {
    "scrolled": true
   },
   "outputs": [
    {
     "data": {
      "text/plain": [
       "price             1.000000\n",
       "price_sqft        0.681613\n",
       "grade_code        0.560863\n",
       "sqft_living       0.533372\n",
       "bathrooms         0.336551\n",
       "sqft_patio        0.269960\n",
       "sqft_garage       0.191680\n",
       "sqft_lot          0.173581\n",
       "bedrooms          0.163144\n",
       "yr_built          0.089904\n",
       "condition_code    0.035037\n",
       "id                0.001849\n",
       "floors                 NaN\n",
       "Name: price, dtype: float64"
      ]
     },
     "execution_count": 12,
     "metadata": {},
     "output_type": "execute_result"
    }
   ],
   "source": [
    "new_df.corr()['price'].map(abs).sort_values(ascending=False)"
   ]
  },
  {
   "cell_type": "code",
   "execution_count": 13,
   "metadata": {},
   "outputs": [
    {
     "data": {
      "text/plain": [
       "count    2.618000e+03\n",
       "mean     8.548906e+05\n",
       "std      3.877088e+05\n",
       "min      4.118100e+04\n",
       "25%      5.800000e+05\n",
       "50%      7.500000e+05\n",
       "75%      1.025000e+06\n",
       "max      2.301000e+06\n",
       "Name: price, dtype: float64"
      ]
     },
     "execution_count": 13,
     "metadata": {},
     "output_type": "execute_result"
    }
   ],
   "source": [
    "numbers_df['price'].describe()"
   ]
  },
  {
   "cell_type": "code",
   "execution_count": 14,
   "metadata": {},
   "outputs": [],
   "source": [
    "X = new_df.drop(columns = ['price', 'floors', 'id'])\n",
    "y = new_df['price']"
   ]
  },
  {
   "cell_type": "code",
   "execution_count": 15,
   "metadata": {
    "scrolled": true
   },
   "outputs": [
    {
     "data": {
      "text/html": [
       "<div>\n",
       "<style scoped>\n",
       "    .dataframe tbody tr th:only-of-type {\n",
       "        vertical-align: middle;\n",
       "    }\n",
       "\n",
       "    .dataframe tbody tr th {\n",
       "        vertical-align: top;\n",
       "    }\n",
       "\n",
       "    .dataframe thead th {\n",
       "        text-align: right;\n",
       "    }\n",
       "</style>\n",
       "<table border=\"1\" class=\"dataframe\">\n",
       "  <thead>\n",
       "    <tr style=\"text-align: right;\">\n",
       "      <th></th>\n",
       "      <th>bedrooms</th>\n",
       "      <th>bathrooms</th>\n",
       "      <th>sqft_living</th>\n",
       "      <th>sqft_lot</th>\n",
       "      <th>sqft_garage</th>\n",
       "      <th>sqft_patio</th>\n",
       "      <th>yr_built</th>\n",
       "      <th>price_sqft</th>\n",
       "      <th>grade_code</th>\n",
       "      <th>condition_code</th>\n",
       "    </tr>\n",
       "  </thead>\n",
       "  <tbody>\n",
       "    <tr>\n",
       "      <th>0</th>\n",
       "      <td>-0.422916</td>\n",
       "      <td>-0.679218</td>\n",
       "      <td>-0.561927</td>\n",
       "      <td>-0.286390</td>\n",
       "      <td>-0.182910</td>\n",
       "      <td>-1.011665</td>\n",
       "      <td>0.226147</td>\n",
       "      <td>0.127758</td>\n",
       "      <td>-0.764958</td>\n",
       "      <td>0.679186</td>\n",
       "    </tr>\n",
       "    <tr>\n",
       "      <th>1</th>\n",
       "      <td>-0.422916</td>\n",
       "      <td>1.088368</td>\n",
       "      <td>0.117494</td>\n",
       "      <td>-0.349550</td>\n",
       "      <td>0.613444</td>\n",
       "      <td>-0.517229</td>\n",
       "      <td>0.426063</td>\n",
       "      <td>-0.971479</td>\n",
       "      <td>-0.764958</td>\n",
       "      <td>-0.820063</td>\n",
       "    </tr>\n",
       "    <tr>\n",
       "      <th>2</th>\n",
       "      <td>-0.422916</td>\n",
       "      <td>1.088368</td>\n",
       "      <td>1.191927</td>\n",
       "      <td>-0.287548</td>\n",
       "      <td>0.265039</td>\n",
       "      <td>1.625329</td>\n",
       "      <td>1.825479</td>\n",
       "      <td>1.730091</td>\n",
       "      <td>1.957896</td>\n",
       "      <td>-0.820063</td>\n",
       "    </tr>\n",
       "    <tr>\n",
       "      <th>3</th>\n",
       "      <td>-0.422916</td>\n",
       "      <td>-0.679218</td>\n",
       "      <td>-0.941138</td>\n",
       "      <td>-0.294111</td>\n",
       "      <td>-0.083365</td>\n",
       "      <td>-0.517229</td>\n",
       "      <td>-0.273644</td>\n",
       "      <td>0.781593</td>\n",
       "      <td>-0.764958</td>\n",
       "      <td>2.178435</td>\n",
       "    </tr>\n",
       "    <tr>\n",
       "      <th>4</th>\n",
       "      <td>-0.422916</td>\n",
       "      <td>0.204575</td>\n",
       "      <td>5.142047</td>\n",
       "      <td>3.541122</td>\n",
       "      <td>3.002504</td>\n",
       "      <td>1.748939</td>\n",
       "      <td>1.925437</td>\n",
       "      <td>-0.757383</td>\n",
       "      <td>3.319323</td>\n",
       "      <td>-0.820063</td>\n",
       "    </tr>\n",
       "  </tbody>\n",
       "</table>\n",
       "</div>"
      ],
      "text/plain": [
       "   bedrooms  bathrooms  sqft_living  sqft_lot  sqft_garage  sqft_patio  \\\n",
       "0 -0.422916  -0.679218    -0.561927 -0.286390    -0.182910   -1.011665   \n",
       "1 -0.422916   1.088368     0.117494 -0.349550     0.613444   -0.517229   \n",
       "2 -0.422916   1.088368     1.191927 -0.287548     0.265039    1.625329   \n",
       "3 -0.422916  -0.679218    -0.941138 -0.294111    -0.083365   -0.517229   \n",
       "4 -0.422916   0.204575     5.142047  3.541122     3.002504    1.748939   \n",
       "\n",
       "   yr_built  price_sqft  grade_code  condition_code  \n",
       "0  0.226147    0.127758   -0.764958        0.679186  \n",
       "1  0.426063   -0.971479   -0.764958       -0.820063  \n",
       "2  1.825479    1.730091    1.957896       -0.820063  \n",
       "3 -0.273644    0.781593   -0.764958        2.178435  \n",
       "4  1.925437   -0.757383    3.319323       -0.820063  "
      ]
     },
     "execution_count": 15,
     "metadata": {},
     "output_type": "execute_result"
    }
   ],
   "source": [
    "X.head()"
   ]
  },
  {
   "cell_type": "code",
   "execution_count": 16,
   "metadata": {},
   "outputs": [
    {
     "name": "stdout",
     "output_type": "stream",
     "text": [
      "0      -0.270591\n",
      "1      -0.709148\n",
      "2       2.954094\n",
      "3      -0.180300\n",
      "4       2.128574\n",
      "          ...   \n",
      "2613   -0.915528\n",
      "2614   -0.760743\n",
      "2615    0.402723\n",
      "2616    0.064776\n",
      "2617   -0.141604\n",
      "Name: price, Length: 2618, dtype: float64\n"
     ]
    }
   ],
   "source": [
    "print(y)"
   ]
  },
  {
   "cell_type": "code",
   "execution_count": 17,
   "metadata": {},
   "outputs": [
    {
     "data": {
      "text/plain": [
       "-0.764958    1451\n",
       " 0.596469     932\n",
       " 1.957896     175\n",
       " 3.319323      53\n",
       " 4.680750       5\n",
       " 6.042177       2\n",
       "Name: grade_code, dtype: int64"
      ]
     },
     "execution_count": 17,
     "metadata": {},
     "output_type": "execute_result"
    }
   ],
   "source": [
    "X.grade_code.value_counts()"
   ]
  },
  {
   "cell_type": "code",
   "execution_count": 18,
   "metadata": {},
   "outputs": [
    {
     "name": "stdout",
     "output_type": "stream",
     "text": [
      "\n",
      "Baseline Model Train Score: 0.0\n",
      "Baseline Model Train RMSE: 1.0\n",
      "\n",
      "Baseline Model Test Score: -4.4089999257534984e-05\n",
      "Baseline Model Test RMSE: 1.0\n"
     ]
    }
   ],
   "source": [
    "X_train, X_test, y_train, y_test = train_test_split(X, y, test_size = 0.33, random_state = 1337)\n",
    "\n",
    "dummy_regr = DummyRegressor()\n",
    "dummy_regr.fit(X_train, y_train)\n",
    "dummy_regr.predict(X_train)\n",
    "dummy_regr.predict(X_test)\n",
    "dummy_regr.score(X_train, y_train)\n",
    "dummy_regr.score(X_test, y_test)\n",
    "dummy_train_RMSE = MSE(y_train,dummy_regr.predict(X_train), squared = False)\n",
    "dummy_test_RMSE = MSE(y_test,dummy_regr.predict(X_test), squared = False)\n",
    "\n",
    "print()\n",
    "print(f'Baseline Model Train Score: {dummy_regr.score(X_train, y_train)}')\n",
    "print(f'Baseline Model Train RMSE: {round(dummy_train_RMSE)}')\n",
    "print()\n",
    "print(f'Baseline Model Test Score: {dummy_regr.score(X_test, y_test)}')\n",
    "print(f'Baseline Model Test RMSE: {round(dummy_test_RMSE)}')"
   ]
  },
  {
   "cell_type": "code",
   "execution_count": 19,
   "metadata": {},
   "outputs": [],
   "source": [
    "most_correlated_feature = 'price_sqft'"
   ]
  },
  {
   "cell_type": "code",
   "execution_count": 20,
   "metadata": {},
   "outputs": [],
   "source": [
    "from sklearn.linear_model import LinearRegression\n",
    "\n",
    "base_model = LinearRegression()"
   ]
  },
  {
   "cell_type": "code",
   "execution_count": 21,
   "metadata": {},
   "outputs": [
    {
     "name": "stdout",
     "output_type": "stream",
     "text": [
      "Train score:      0.45439241620248527\n",
      "Validation score: 0.4705759680879316\n"
     ]
    }
   ],
   "source": [
    "splitter = ShuffleSplit(n_splits=3, test_size=0.25, random_state=1337)\n",
    "\n",
    "base_scores = cross_validate(\n",
    "    estimator=base_model,\n",
    "    X=X_train[[most_correlated_feature]],\n",
    "    y=y_train,\n",
    "    return_train_score=True,\n",
    "    cv=splitter\n",
    ")\n",
    "\n",
    "print(\"Train score:     \", base_scores[\"train_score\"].mean())\n",
    "print(\"Validation score:\", base_scores[\"test_score\"].mean())"
   ]
  },
  {
   "cell_type": "code",
   "execution_count": 22,
   "metadata": {},
   "outputs": [
    {
     "name": "stdout",
     "output_type": "stream",
     "text": [
      "Simple Model Train score: 0.28223523161086034\n",
      "Simple Model Train RMSE: 1.0\n",
      "Simple Model Train Condition Number: 1.0206582803917348\n",
      "\n",
      "Simple Model Test score:  0.2900280983063191\n",
      "Simple Model Test RMSE: 1.0\n"
     ]
    }
   ],
   "source": [
    "X_train_simple_model = X_train[['price_sqft']]\n",
    "X_test_simple_model = X_test[['price_sqft']]\n",
    "\n",
    "splitter = ShuffleSplit(n_splits=3, test_size=0.25, random_state=1337)\n",
    "\n",
    "simple_model = LinearRegression()\n",
    "simple_model.fit(X_train_simple_model,y_train)\n",
    "\n",
    "simple_model_scores = cross_validate(estimator=simple_model, X=new_df[['sqft_living']], y=new_df.price, return_train_score=True, cv=splitter)\n",
    "\n",
    "simple_predict_train = simple_model.predict(X_train_simple_model)\n",
    "simple_predict_test = simple_model.predict(X_test_simple_model)\n",
    "\n",
    "simple_train_RMSE = MSE(y_train,simple_predict_train,squared = False)\n",
    "simple_test_RMSE = MSE(y_test,simple_predict_test, squared = False)\n",
    "\n",
    "simple_condition_num = sm.OLS(y_train, sm.add_constant(X_train_simple_model)).fit().condition_number\n",
    "\n",
    "print(f'Simple Model Train score: {simple_model_scores[\"train_score\"].mean()}')\n",
    "print(f'Simple Model Train RMSE: {round(simple_train_RMSE)}')\n",
    "print(f'Simple Model Train Condition Number: {simple_condition_num}')\n",
    "print()\n",
    "print(\"Simple Model Test score: \", simple_model_scores[\"test_score\"].mean())\n",
    "print(f'Simple Model Test RMSE: {round(simple_test_RMSE)}')"
   ]
  },
  {
   "cell_type": "markdown",
   "metadata": {},
   "source": [
    "### Get the Coefficient from our Model"
   ]
  },
  {
   "cell_type": "code",
   "execution_count": 23,
   "metadata": {},
   "outputs": [
    {
     "data": {
      "text/plain": [
       "array([0.66743121])"
      ]
     },
     "execution_count": 23,
     "metadata": {},
     "output_type": "execute_result"
    }
   ],
   "source": [
    "simple_model.coef_"
   ]
  },
  {
   "cell_type": "code",
   "execution_count": 24,
   "metadata": {},
   "outputs": [
    {
     "data": {
      "text/plain": [
       "count    2618.000000\n",
       "mean      450.246706\n",
       "std       167.938864\n",
       "min        22.943038\n",
       "25%       334.851960\n",
       "50%       417.303324\n",
       "75%       544.270251\n",
       "max      1254.629630\n",
       "Name: price_sqft, dtype: float64"
      ]
     },
     "execution_count": 24,
     "metadata": {},
     "output_type": "execute_result"
    }
   ],
   "source": [
    "df['price_sqft'].describe()"
   ]
  },
  {
   "cell_type": "code",
   "execution_count": 25,
   "metadata": {
    "scrolled": false
   },
   "outputs": [
    {
     "data": {
      "text/plain": [
       "count    2.618000e+03\n",
       "mean     8.548906e+05\n",
       "std      3.877088e+05\n",
       "min      4.118100e+04\n",
       "25%      5.800000e+05\n",
       "50%      7.500000e+05\n",
       "75%      1.025000e+06\n",
       "max      2.301000e+06\n",
       "Name: price, dtype: float64"
      ]
     },
     "execution_count": 25,
     "metadata": {},
     "output_type": "execute_result"
    }
   ],
   "source": [
    "df['price'].describe()"
   ]
  },
  {
   "cell_type": "markdown",
   "metadata": {},
   "source": [
    "### How to Interpret"
   ]
  },
  {
   "cell_type": "markdown",
   "metadata": {},
   "source": [
    "- for each .667 std increase in sqft_living, we expect to see on average a .667 std increase in the price, apply these .667 calculations to both variables via .describe"
   ]
  },
  {
   "cell_type": "markdown",
   "metadata": {},
   "source": [
    "### Checking Variance of First Model"
   ]
  },
  {
   "cell_type": "code",
   "execution_count": 26,
   "metadata": {
    "scrolled": false
   },
   "outputs": [
    {
     "data": {
      "image/png": "[encoded data removed]",
      "text/plain": [
       "<Figure size 720x1152 with 1 Axes>"
      ]
     },
     "metadata": {
      "needs_background": "light"
     },
     "output_type": "display_data"
    }
   ],
   "source": [
    "fig, ax = plt.subplots(figsize = (10,16))\n",
    "\n",
    "sns.scatterplot(x = simple_predict_test, y = y_test, ax=ax)\n",
    "ax.set_title('Regression Residuals for Price of Homes in King County, Simple Model')\n",
    "ax.set_xlabel('Estimated Price of Home in Millions of Dollars')\n",
    "ax.set_ylabel('Actual Price of Home in Millions of Dollars')\n",
    "ax.ticklabel_format(style='plain') \n",
    "millions = ticker.FuncFormatter(lambda x, pos: '${0:g}'.format(x))\n",
    "ax.yaxis.set_major_formatter(millions)\n",
    "ax.xaxis.set_major_formatter(millions)\n",
    "x,y = [range(0, 4, 1)],[range(0, 4, 1)]\n",
    "\n",
    "plt.show()"
   ]
  },
  {
   "cell_type": "markdown",
   "metadata": {},
   "source": [
    "- Note from Jelly: This makes sense, didn't need the orange axis coming thorugh, this is a plot of our variance between the actual and estimated. "
   ]
  },
  {
   "cell_type": "markdown",
   "metadata": {},
   "source": [
    "### Next Model, more variables, 3 highest correlating to price"
   ]
  },
  {
   "cell_type": "code",
   "execution_count": 40,
   "metadata": {
    "scrolled": false
   },
   "outputs": [
    {
     "name": "stdout",
     "output_type": "stream",
     "text": [
      "Third Model Train score: 0.9305304474314836\n",
      "Third Model Train RMSE: 0.2690073170827898\n",
      "\n",
      "Third Model Train Condition Number: 2.3147012142445265\n",
      "\n",
      "Third Model Test score:  0.9348314235638888\n",
      "Third Model Test RMSE: 0.24487650980706402\n"
     ]
    }
   ],
   "source": [
    "X_train_third_model = X_train[['price_sqft','sqft_living', 'grade_code']]\n",
    "X_test_third_model = X_test[['price_sqft','sqft_living','grade_code']]\n",
    "\n",
    "splitter = ShuffleSplit(n_splits=3, test_size=0.25, random_state=1337)\n",
    "\n",
    "third_model = LinearRegression()\n",
    "third_model.fit(X_train_third_model,y_train)\n",
    "\n",
    "third_model_scores = cross_validate(\n",
    "    estimator=simple_model,\n",
    "    X=new_df[['price_sqft', 'sqft_living', 'grade_code']],\n",
    "    y=new_df.price,\n",
    "    return_train_score=True,\n",
    "    cv=splitter\n",
    ")\n",
    "\n",
    "third_predict_train = third_model.predict(X_train_third_model)\n",
    "third_predict_test = third_model.predict(X_test_third_model)\n",
    "\n",
    "third_train_RMSE = MSE(y_train,third_predict_train,squared = False)\n",
    "third_test_RMSE = MSE(y_test,third_predict_test, squared = False)\n",
    "\n",
    "third_condition_num = sm.OLS(y_train, sm.add_constant(X_train_third_model)).fit().condition_number\n",
    "\n",
    "print(f'Third Model Train score: {third_model_scores[\"train_score\"].mean()}')\n",
    "print(f'Third Model Train RMSE: {(third_train_RMSE)}')\n",
    "print()\n",
    "print(f'Third Model Train Condition Number: {third_condition_num}')\n",
    "print()\n",
    "print(\"Third Model Test score: \", third_model_scores[\"test_score\"].mean())\n",
    "print(f'Third Model Test RMSE: {(third_test_RMSE)}')"
   ]
  },
  {
   "cell_type": "code",
   "execution_count": 28,
   "metadata": {
    "scrolled": false
   },
   "outputs": [
    {
     "data": {
      "image/png": "[encoded data removed]",
      "text/plain": [
       "<Figure size 720x1152 with 1 Axes>"
      ]
     },
     "metadata": {
      "needs_background": "light"
     },
     "output_type": "display_data"
    }
   ],
   "source": [
    "fig, ax = plt.subplots(figsize = (10,16))\n",
    "\n",
    "sns.scatterplot(x = third_predict_test, y = y_test, ax=ax)\n",
    "ax.set_title('Regression Residuals for Price of Homes in King County, Simple Model')\n",
    "ax.set_xlabel('Estimated Price of Home in Millions of Dollars')\n",
    "ax.set_ylabel('Actual Price of Home in Millions of Dollars')\n",
    "ax.ticklabel_format(style='plain') \n",
    "millions = ticker.FuncFormatter(lambda x, pos: '${0:g}'.format(x))\n",
    "ax.yaxis.set_major_formatter(millions)\n",
    "ax.xaxis.set_major_formatter(millions)\n",
    "x,y = [range(0, 4, 1)],[range(0, 4, 1)]\n",
    "\n",
    "plt.show()"
   ]
  },
  {
   "cell_type": "code",
   "execution_count": 29,
   "metadata": {
    "scrolled": true
   },
   "outputs": [
    {
     "data": {
      "text/plain": [
       "array([0.7993689 , 0.66476628, 0.05404437])"
      ]
     },
     "execution_count": 29,
     "metadata": {},
     "output_type": "execute_result"
    }
   ],
   "source": [
    "third_model.coef_"
   ]
  },
  {
   "cell_type": "code",
   "execution_count": 30,
   "metadata": {},
   "outputs": [
    {
     "data": {
      "text/plain": [
       "count    2618.000000\n",
       "mean      450.246706\n",
       "std       167.938864\n",
       "min        22.943038\n",
       "25%       334.851960\n",
       "50%       417.303324\n",
       "75%       544.270251\n",
       "max      1254.629630\n",
       "Name: price_sqft, dtype: float64"
      ]
     },
     "execution_count": 30,
     "metadata": {},
     "output_type": "execute_result"
    }
   ],
   "source": [
    "df['price_sqft'].describe()"
   ]
  },
  {
   "cell_type": "markdown",
   "metadata": {},
   "source": [
    "### Coefficients for Third Model\n",
    "- 0.799[price/sqft], 0.665[sqft_living], 0.05[grade_code]"
   ]
  },
  {
   "cell_type": "code",
   "execution_count": 33,
   "metadata": {},
   "outputs": [
    {
     "data": {
      "text/plain": [
       "count    2.618000e+03\n",
       "mean     8.548906e+05\n",
       "std      3.877088e+05\n",
       "min      4.118100e+04\n",
       "25%      5.800000e+05\n",
       "50%      7.500000e+05\n",
       "75%      1.025000e+06\n",
       "max      2.301000e+06\n",
       "Name: price, dtype: float64"
      ]
     },
     "execution_count": 33,
     "metadata": {},
     "output_type": "execute_result"
    }
   ],
   "source": [
    "df['price'].describe()"
   ]
  },
  {
   "cell_type": "code",
   "execution_count": 34,
   "metadata": {},
   "outputs": [
    {
     "data": {
      "text/plain": [
       "count    2618.000000\n",
       "mean     1945.639037\n",
       "std       633.012981\n",
       "min       770.000000\n",
       "25%      1492.500000\n",
       "50%      1840.000000\n",
       "75%      2260.000000\n",
       "max      5490.000000\n",
       "Name: sqft_living, dtype: float64"
      ]
     },
     "execution_count": 34,
     "metadata": {},
     "output_type": "execute_result"
    }
   ],
   "source": [
    "df['sqft_living'].describe()"
   ]
  },
  {
   "cell_type": "code",
   "execution_count": 37,
   "metadata": {},
   "outputs": [
    {
     "data": {
      "text/plain": [
       "count    2618.000000\n",
       "mean        7.561879\n",
       "std         0.734664\n",
       "min         7.000000\n",
       "25%         7.000000\n",
       "50%         7.000000\n",
       "75%         8.000000\n",
       "max        12.000000\n",
       "Name: grade_code, dtype: float64"
      ]
     },
     "execution_count": 37,
     "metadata": {},
     "output_type": "execute_result"
    }
   ],
   "source": [
    "df['grade_code'].describe()"
   ]
  },
  {
   "cell_type": "markdown",
   "metadata": {},
   "source": [
    "### Another Model, Everything"
   ]
  },
  {
   "cell_type": "code",
   "execution_count": 31,
   "metadata": {},
   "outputs": [
    {
     "name": "stdout",
     "output_type": "stream",
     "text": [
      "Fourth Model Train score: 0.9316333091834593\n",
      "Fourth Model Train RMSE: 0.26711360675598167\n",
      "\n",
      "Fourth Model Train Condition Number: 3.82062581474638\n",
      "\n",
      "Fourth Model Test score:  0.9349638986370231\n",
      "Fourth Model Test RMSE: 0.24392656578511027\n"
     ]
    }
   ],
   "source": [
    "X_train_fourth_model = X_train\n",
    "X_test_fourth_model = X_test\n",
    "\n",
    "splitter = ShuffleSplit(n_splits=3, test_size=0.25, random_state=1337)\n",
    "\n",
    "fourth_model = LinearRegression()\n",
    "fourth_model.fit(X_train_fourth_model,y_train)\n",
    "\n",
    "fourth_model_scores = cross_validate(\n",
    "    estimator=simple_model,\n",
    "    X=new_df.drop(columns = 'price'),\n",
    "    y=new_df.price,\n",
    "    return_train_score=True,\n",
    "    cv=splitter\n",
    ")\n",
    "\n",
    "fourth_predict_train = fourth_model.predict(X_train_fourth_model)\n",
    "fourth_predict_test = fourth_model.predict(X_test_fourth_model)\n",
    "\n",
    "fourth_train_RMSE = MSE(y_train,fourth_predict_train,squared = False)\n",
    "fourth_test_RMSE = MSE(y_test,fourth_predict_test, squared = False)\n",
    "\n",
    "fourth_condition_num = sm.OLS(y_train, sm.add_constant(X_train_fourth_model)).fit().condition_number\n",
    "\n",
    "print(f'Fourth Model Train score: {fourth_model_scores[\"train_score\"].mean()}')\n",
    "print(f'Fourth Model Train RMSE: {(fourth_train_RMSE)}')\n",
    "print()\n",
    "print(f'Fourth Model Train Condition Number: {fourth_condition_num}')\n",
    "print()\n",
    "print(\"Fourth Model Test score: \", fourth_model_scores[\"test_score\"].mean())\n",
    "print(f'Fourth Model Test RMSE: {(fourth_test_RMSE)}')"
   ]
  },
  {
   "cell_type": "code",
   "execution_count": 32,
   "metadata": {},
   "outputs": [
    {
     "data": {
      "image/png": "[encoded data removed]",
      "text/plain": [
       "<Figure size 720x1152 with 1 Axes>"
      ]
     },
     "metadata": {
      "needs_background": "light"
     },
     "output_type": "display_data"
    }
   ],
   "source": [
    "fig, ax = plt.subplots(figsize = (10,16))\n",
    "\n",
    "sns.scatterplot(x = fourth_predict_test, y = y_test, ax=ax)\n",
    "ax.set_title('Regression Residuals for Price of Homes in King County, Simple Model')\n",
    "ax.set_xlabel('Estimated Price of Home in Millions of Dollars')\n",
    "ax.set_ylabel('Actual Price of Home in Millions of Dollars')\n",
    "ax.ticklabel_format(style='plain') \n",
    "millions = ticker.FuncFormatter(lambda x, pos: '${0:g}'.format(x))\n",
    "ax.yaxis.set_major_formatter(millions)\n",
    "ax.xaxis.set_major_formatter(millions)\n",
    "x,y = [range(0, 4, 1)],[range(0, 4, 1)]\n",
    "\n",
    "plt.show()"
   ]
  },
  {
   "cell_type": "markdown",
   "metadata": {},
   "source": [
    "### Might be too colinear so we're taking out price/sqft"
   ]
  },
  {
   "cell_type": "code",
   "execution_count": 42,
   "metadata": {},
   "outputs": [
    {
     "name": "stdout",
     "output_type": "stream",
     "text": [
      "Ffith Model Train score: 0.36461443457532844\n",
      "Fifth Model Train RMSE: 0.8021299954073828\n",
      "\n",
      "Fifth Model Train Condition Number: 2.0669226521621398\n",
      "\n",
      "Fifth Model Test score:  0.38891878251749673\n",
      "Fifth Model Test RMSE: 0.7731667008976532\n"
     ]
    }
   ],
   "source": [
    "X_train_fifth_model = X_train[['sqft_living', 'grade_code']]\n",
    "X_test_fifth_model = X_test[['sqft_living','grade_code']]\n",
    "\n",
    "splitter = ShuffleSplit(n_splits=3, test_size=0.25, random_state=1337)\n",
    "\n",
    "fifth_model = LinearRegression()\n",
    "fifth_model.fit(X_train_fifth_model,y_train)\n",
    "\n",
    "fifth_model_scores = cross_validate(\n",
    "    estimator=simple_model,\n",
    "    X=new_df[['sqft_living', 'grade_code']],\n",
    "    y=new_df.price,\n",
    "    return_train_score=True,\n",
    "    cv=splitter\n",
    ")\n",
    "\n",
    "fifth_predict_train = fifth_model.predict(X_train_fifth_model)\n",
    "fifth_predict_test = fifth_model.predict(X_test_fifth_model)\n",
    "\n",
    "fifth_train_RMSE = MSE(y_train,fifth_predict_train,squared = False)\n",
    "fifth_test_RMSE = MSE(y_test,fifth_predict_test, squared = False)\n",
    "\n",
    "fifth_condition_num = sm.OLS(y_train, sm.add_constant(X_train_fifth_model)).fit().condition_number\n",
    "\n",
    "print(f'Ffith Model Train score: {fifth_model_scores[\"train_score\"].mean()}')\n",
    "print(f'Fifth Model Train RMSE: {(fifth_train_RMSE)}')\n",
    "print()\n",
    "print(f'Fifth Model Train Condition Number: {fifth_condition_num}')\n",
    "print()\n",
    "print(\"Fifth Model Test score: \", fifth_model_scores[\"test_score\"].mean())\n",
    "print(f'Fifth Model Test RMSE: {(fifth_test_RMSE)}')"
   ]
  },
  {
   "cell_type": "code",
   "execution_count": 43,
   "metadata": {},
   "outputs": [
    {
     "data": {
      "image/png": "[encoded data removed]",
      "text/plain": [
       "<Figure size 720x1152 with 1 Axes>"
      ]
     },
     "metadata": {
      "needs_background": "light"
     },
     "output_type": "display_data"
    }
   ],
   "source": [
    "fig, ax = plt.subplots(figsize = (10,16))\n",
    "\n",
    "sns.scatterplot(x = fifth_predict_test, y = y_test, ax=ax)\n",
    "ax.set_title('Regression Residuals for Price of Homes in King County, Simple Model')\n",
    "ax.set_xlabel('Estimated Price of Home in Millions of Dollars')\n",
    "ax.set_ylabel('Actual Price of Home in Millions of Dollars')\n",
    "ax.ticklabel_format(style='plain') \n",
    "millions = ticker.FuncFormatter(lambda x, pos: '${0:g}'.format(x))\n",
    "ax.yaxis.set_major_formatter(millions)\n",
    "ax.xaxis.set_major_formatter(millions)\n",
    "x,y = [range(0, 4, 1)],[range(0, 4, 1)]\n",
    "\n",
    "plt.show()"
   ]
  },
  {
   "cell_type": "code",
   "execution_count": 45,
   "metadata": {},
   "outputs": [
    {
     "data": {
      "text/plain": [
       "array([0.29224312, 0.37772372])"
      ]
     },
     "execution_count": 45,
     "metadata": {},
     "output_type": "execute_result"
    }
   ],
   "source": [
    "fifth_model.coef_"
   ]
  },
  {
   "cell_type": "code",
   "execution_count": 46,
   "metadata": {},
   "outputs": [
    {
     "data": {
      "text/plain": [
       "count    2618.000000\n",
       "mean     1945.639037\n",
       "std       633.012981\n",
       "min       770.000000\n",
       "25%      1492.500000\n",
       "50%      1840.000000\n",
       "75%      2260.000000\n",
       "max      5490.000000\n",
       "Name: sqft_living, dtype: float64"
      ]
     },
     "execution_count": 46,
     "metadata": {},
     "output_type": "execute_result"
    }
   ],
   "source": [
    "df['sqft_living'].describe()"
   ]
  },
  {
   "cell_type": "code",
   "execution_count": 47,
   "metadata": {},
   "outputs": [
    {
     "data": {
      "text/plain": [
       "count    2618.000000\n",
       "mean        7.561879\n",
       "std         0.734664\n",
       "min         7.000000\n",
       "25%         7.000000\n",
       "50%         7.000000\n",
       "75%         8.000000\n",
       "max        12.000000\n",
       "Name: grade_code, dtype: float64"
      ]
     },
     "execution_count": 47,
     "metadata": {},
     "output_type": "execute_result"
    }
   ],
   "source": [
    "df['grade_code'].describe()"
   ]
  },
  {
   "cell_type": "code",
   "execution_count": 48,
   "metadata": {},
   "outputs": [
    {
     "data": {
      "text/plain": [
       "count    2.618000e+03\n",
       "mean     8.548906e+05\n",
       "std      3.877088e+05\n",
       "min      4.118100e+04\n",
       "25%      5.800000e+05\n",
       "50%      7.500000e+05\n",
       "75%      1.025000e+06\n",
       "max      2.301000e+06\n",
       "Name: price, dtype: float64"
      ]
     },
     "execution_count": 48,
     "metadata": {},
     "output_type": "execute_result"
    }
   ],
   "source": [
    "df['price'].describe()"
   ]
  },
  {
   "cell_type": "code",
   "execution_count": 50,
   "metadata": {},
   "outputs": [
    {
     "data": {
      "text/plain": [
       "7     1451\n",
       "8      932\n",
       "9      175\n",
       "10      53\n",
       "11       5\n",
       "12       2\n",
       "Name: grade_code, dtype: int64"
      ]
     },
     "execution_count": 50,
     "metadata": {},
     "output_type": "execute_result"
    }
   ],
   "source": [
    "df['grade_code'].value_counts()"
   ]
  },
  {
   "cell_type": "code",
   "execution_count": null,
   "metadata": {},
   "outputs": [],
   "source": []
  }
 ],
 "metadata": {
  "kernelspec": {
   "display_name": "Python (learn-env)",
   "language": "python",
   "name": "learn-env"
  },
  "language_info": {
   "codemirror_mode": {
    "name": "ipython",
    "version": 3
   },
   "file_extension": ".py",
   "mimetype": "text/x-python",
   "name": "python",
   "nbconvert_exporter": "python",
   "pygments_lexer": "ipython3",
   "version": "3.8.5"
  }
 },
 "nbformat": 4,
 "nbformat_minor": 4
}
